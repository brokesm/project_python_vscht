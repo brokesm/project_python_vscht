{
 "cells": [
  {
   "cell_type": "markdown",
   "id": "0cf75ab4-bd4d-4ec2-a708-74797dbfce44",
   "metadata": {},
   "source": [
    "# Úkol č. 2 - regrese\n",
    "\n",
    "## Zdroj dat\n",
    "\n",
    "Budeme se zabývat predikcí délky dožití v různých zemích a letech.\n",
    "K dispozici máte trénovací data v souboru `data.csv` a data na vyhodnocení v souboru `evaluation.csv`.\n",
    "\n",
    "#### Seznam příznaků:\n",
    "\n",
    "* Year - Rok\n",
    "* Status - Status rozvinuté nebo rozvojové země\n",
    "* Life expectancy - Délka dožití v letech - **cílová proměnná, kterou budete predikovat**\n",
    "* Adult Mortality - Úmrtnost dospělých bez ohledu na pohlaví (pravděpodobnost, že osoby, které dosáhly věku 15 let, zemřou před dosažením věku 60 let (uvedeno na 1 000 osob)).\n",
    "* infant deaths - počet zemřelých kojenců na 1000 obyvatel\n",
    "* Alcohol - Alkohol, zaznamenaná spotřeba na obyvatele (15+) (v litrech čistého alkoholu)\n",
    "* percentage expenditure - Výdaje na zdravotnictví v procentech hrubého domácího produktu na obyvatele (%)\n",
    "* Hepatitis B - pokrytí očkováním proti hepatitidě B (HepB) u dětí ve věku 1 roku (%)\n",
    "* Measles - Spalničky - počet hlášených případů na 1000 obyvatel\n",
    "* BMI - průměrný index tělesné hmotnosti celé populace\n",
    "* under-five deaths - počet úmrtí dětí do pěti let na 1000 obyvatel\n",
    "* Polio - proočkovanost proti dětské obrně (Pol3) u dětí ve věku 1 roku (%)\n",
    "* Total expenditure - Výdaje vládních institucí na zdravotnictví jako procento celkových vládních výdajů (%)\n",
    "* Diphtheria - pokrytí očkováním proti záškrtu, tetanu a černému kašli (DTP3) u jednoletých dětí (%)\n",
    "* HIV/AIDS - počet úmrtí na 1 000 živě narozených dětí na HIV/AIDS (0-4 roky)\n",
    "* GDP - hrubý domácí produkt na obyvatele (v USD)\n",
    "* Population - počet obyvatel země\n",
    "* thinness 1-19 years - podíl dětí ve věku 10-19 let s indexem tělesné hmotnosti (BMI) menším než 2 směrodatné odchylky pod mediánem (%)\n",
    "* thinness 5-9 years - podíl dětí ve věku 5-9 let s indexem tělesné hmotnosti (BMI) menším než 2 směrodatné odchylky pod mediánem (%)\n",
    "* Income composition of resources - Index lidského rozvoje z hlediska příjmového složení zdrojů (index v rozmezí 0 až 1)\n",
    "* Schooling - počet let školní docházky (roky)\n",
    "\n",
    "\n",
    "## Pokyny k vypracování\n",
    "\n",
    "**Body zadání**, za jejichž (poctivé) vypracování získáte **25 bodů**: \n",
    "  * V notebooku načtěte data ze souboru `data.csv`. Vhodným způsobem si je rozdělte na podmnožiny, které Vám poslouží pro trénování (trénovací), porovnávání modelů (validační) a následnou predikci výkonnosti finálního modelu (testovací).\n",
    "    \n",
    "  * Proveďte základní předzpracování dat:\n",
    "    * Projděte si jednotlivé příznaky a transformujte je do vhodné podoby pro použití ve vybraném regresním modelu.\n",
    "    * Nějakým způsobem se vypořádejte s chybějícími hodnotami. _Pozor na metodické chyby!_\n",
    "    * Můžete využívat i vizualizace. Vše stručně ale náležitě komentujte.\n",
    "<br /><br />\n",
    "  * Vytvořte **vlastní implementaci náhodného lesa**. Použijte k tomu níže předpřipravenou kostru.\n",
    "  \n",
    "  * Na připravená data aplikujte Vaši předchozí implementaci modelu náhodného lesa. Pro tento model přiměřeně:\n",
    "    * Okomentujte jeho vhodnost pro daný typ úlohy.\n",
    "    * Vyberte si hlavní hyperparametry k ladění a najděte jejich nejlepší hodnoty (vzhledem k RMSE).\n",
    "    * Pro model s nejlepšími hodnotami hyperparametrů určete jeho chybu pomocí RMSE a MAE. _Pozor na metodické chyby!_\n",
    "    * Získané výsledky vždy řádně okomentujte.\n",
    "<br /><br />\n",
    "  * Ze všech zkoušených možností v předchozím kroku vyberte finální model a odhadněte, jakou chybu (RMSE) můžete očekávat na nových datech, která jste doposud neměli k dispozici. _Pozor na metodické chyby!_\n",
    "    \n",
    "  * Nakonec načtěte vyhodnocovací data ze souboru `evaluation.csv`. Pomocí finálního modelu napočítejte predikce pro tato data. Vytvořte soubor `results.csv`, ve kterém získané predikce uložíte s využitím tří sloupců: **Country**, **Year** a **Life expectancy**. Tento soubor též odevzdejte (uložte do repozitáře vedle notebooku).\n",
    "\n",
    "  * Ukázka prvních řádků souboru `results.csv`:\n",
    "  \n",
    "```\n",
    "Country,Year,Life expectancy\n",
    "Peru,2012,71.4\n",
    "Peru,2013,72.6\n",
    "...\n",
    "```"
   ]
  },
  {
   "cell_type": "markdown",
   "metadata": {},
   "source": [
    "## Predspracovanie dát\n",
    "\n",
    "Najskôr si importujem všetky balíčky, čo budem v úlohe potrebovať a nastavím si formát čísel tak, aby sa mi neobjavovali vo vedeckom formáte. Hneď potom si načítam .csv súbor a pozriem sa na základné informácie o ňom (prevažne sa sústredím na chýbajúce hodnoty a typy hodnôt). Na prvý pohľad vidím, že chýbajúcich hodnôt je dosť a že jediný stĺpec, ktorý bude potrebné previesť do číselnej reprezentácie je stĺpec \"Status\", ktorý bude nadobúdať len dve hodnoty a to 0 a 1 (Developing a Developed).\n",
    "Na začiatok si ešte dáta prerozdelím na trénovaciu, validačnú a testovaciu množinu."
   ]
  },
  {
   "cell_type": "code",
   "execution_count": 1,
   "metadata": {},
   "outputs": [
    {
     "name": "stdout",
     "output_type": "stream",
     "text": [
      "<class 'pandas.core.frame.DataFrame'>\n",
      "RangeIndex: 2718 entries, 0 to 2717\n",
      "Data columns (total 22 columns):\n",
      " #   Column                           Non-Null Count  Dtype  \n",
      "---  ------                           --------------  -----  \n",
      " 0   Country                          2718 non-null   object \n",
      " 1   Year                             2718 non-null   int64  \n",
      " 2   Status                           2718 non-null   object \n",
      " 3   Life expectancy                  2718 non-null   float64\n",
      " 4   Adult Mortality                  2718 non-null   float64\n",
      " 5   infant deaths                    2718 non-null   int64  \n",
      " 6   Alcohol                          2564 non-null   float64\n",
      " 7   percentage expenditure           2718 non-null   float64\n",
      " 8   Hepatitis B                      2188 non-null   float64\n",
      " 9   Measles                          2718 non-null   int64  \n",
      " 10  BMI                              2692 non-null   float64\n",
      " 11  under-five deaths                2718 non-null   int64  \n",
      " 12  Polio                            2700 non-null   float64\n",
      " 13  Total expenditure                2529 non-null   float64\n",
      " 14  Diphtheria                       2700 non-null   float64\n",
      " 15  HIV/AIDS                         2718 non-null   float64\n",
      " 16  GDP                              2317 non-null   float64\n",
      " 17  Population                       2116 non-null   float64\n",
      " 18  thinness  1-19 years             2692 non-null   float64\n",
      " 19  thinness 5-9 years               2692 non-null   float64\n",
      " 20  Income composition of resources  2576 non-null   float64\n",
      " 21  Schooling                        2576 non-null   float64\n",
      "dtypes: float64(16), int64(4), object(2)\n",
      "memory usage: 467.3+ KB\n",
      "None\n"
     ]
    },
    {
     "data": {
      "text/plain": [
       "array(['Afghanistan', 'Albania', 'Algeria', 'Angola',\n",
       "       'Antigua and Barbuda', 'Argentina', 'Armenia', 'Australia',\n",
       "       'Austria', 'Azerbaijan', 'Bahamas', 'Bahrain', 'Bangladesh',\n",
       "       'Barbados', 'Belarus', 'Belgium', 'Belize', 'Benin', 'Bhutan',\n",
       "       'Bolivia (Plurinational State of)', 'Bosnia and Herzegovina',\n",
       "       'Botswana', 'Brazil', 'Brunei Darussalam', 'Bulgaria',\n",
       "       'Burkina Faso', 'Burundi', \"Côte d'Ivoire\", 'Cabo Verde',\n",
       "       'Cambodia', 'Cameroon', 'Canada', 'Central African Republic',\n",
       "       'Chad', 'Chile', 'China', 'Colombia', 'Comoros', 'Congo',\n",
       "       'Costa Rica', 'Croatia', 'Cuba', 'Cyprus', 'Czechia',\n",
       "       \"Democratic People's Republic of Korea\",\n",
       "       'Democratic Republic of the Congo', 'Denmark', 'Djibouti',\n",
       "       'Dominican Republic', 'Ecuador', 'Egypt', 'El Salvador',\n",
       "       'Equatorial Guinea', 'Eritrea', 'Estonia', 'Ethiopia', 'Fiji',\n",
       "       'Finland', 'France', 'Gabon', 'Gambia', 'Georgia', 'Germany',\n",
       "       'Ghana', 'Greece', 'Grenada', 'Guatemala', 'Guinea',\n",
       "       'Guinea-Bissau', 'Guyana', 'Haiti', 'Honduras', 'Hungary',\n",
       "       'Iceland', 'India', 'Indonesia', 'Iran (Islamic Republic of)',\n",
       "       'Iraq', 'Ireland', 'Israel', 'Italy', 'Jamaica', 'Japan', 'Jordan',\n",
       "       'Kazakhstan', 'Kenya', 'Kiribati', 'Kuwait', 'Kyrgyzstan',\n",
       "       \"Lao People's Democratic Republic\", 'Latvia', 'Lebanon', 'Lesotho',\n",
       "       'Liberia', 'Libya', 'Lithuania', 'Luxembourg', 'Madagascar',\n",
       "       'Malawi', 'Malaysia', 'Maldives', 'Mali', 'Malta', 'Mauritania',\n",
       "       'Mauritius', 'Mexico', 'Micronesia (Federated States of)',\n",
       "       'Mongolia', 'Montenegro', 'Morocco', 'Mozambique', 'Myanmar',\n",
       "       'Namibia', 'Nepal', 'Netherlands', 'New Zealand', 'Nicaragua',\n",
       "       'Niger', 'Nigeria', 'Norway', 'Oman', 'Pakistan', 'Panama',\n",
       "       'Papua New Guinea', 'Paraguay', 'Peru', 'Philippines', 'Poland',\n",
       "       'Portugal', 'Qatar', 'Republic of Korea', 'Republic of Moldova',\n",
       "       'Romania', 'Russian Federation', 'Rwanda', 'Saint Lucia',\n",
       "       'Saint Vincent and the Grenadines', 'Samoa',\n",
       "       'Sao Tome and Principe', 'Saudi Arabia', 'Senegal', 'Serbia',\n",
       "       'Seychelles', 'Sierra Leone', 'Singapore', 'Slovakia', 'Slovenia',\n",
       "       'Solomon Islands', 'Somalia', 'South Africa', 'South Sudan',\n",
       "       'Spain', 'Sri Lanka', 'Sudan', 'Suriname', 'Swaziland', 'Sweden',\n",
       "       'Switzerland', 'Syrian Arab Republic', 'Tajikistan', 'Thailand',\n",
       "       'The former Yugoslav republic of Macedonia', 'Timor-Leste', 'Togo',\n",
       "       'Tonga', 'Trinidad and Tobago', 'Tunisia', 'Turkey',\n",
       "       'Turkmenistan', 'Uganda', 'Ukraine', 'United Arab Emirates',\n",
       "       'United Kingdom of Great Britain and Northern Ireland',\n",
       "       'United Republic of Tanzania', 'United States of America',\n",
       "       'Uruguay', 'Uzbekistan', 'Vanuatu',\n",
       "       'Venezuela (Bolivarian Republic of)', 'Viet Nam', 'Yemen',\n",
       "       'Zambia', 'Zimbabwe'], dtype=object)"
      ]
     },
     "execution_count": 1,
     "metadata": {},
     "output_type": "execute_result"
    }
   ],
   "source": [
    "import pandas as pd\n",
    "import numpy as np\n",
    "from sklearn.model_selection import train_test_split, ParameterGrid\n",
    "from sklearn.tree import DecisionTreeRegressor\n",
    "from sklearn.metrics import root_mean_squared_error,mean_absolute_error\n",
    "\n",
    "pd.set_option(\"display.max_columns\",None)\n",
    "np.set_printoptions(precision=5, suppress=True)\n",
    "\n",
    "data = pd.read_csv(\"data.csv\",index_col=False)\n",
    "print(data.info())\n",
    "\n",
    "train_data,test_data = train_test_split(data,test_size=0.5,random_state=42)\n",
    "val_data,test_data = train_test_split(test_data,test_size=0.5,random_state=42)\n",
    "\n",
    "data[\"Country\"].unique() #aby som vedel, ktoré všetky štáty sa nachádzajú v datasete pre ich následné rozradenie do kontinentov resp. regiónov"
   ]
  },
  {
   "cell_type": "markdown",
   "metadata": {},
   "source": [
    "Najskôr teda rozkategorizujem krajiny podľa odpovedajúcich svetadielov resp. regiónov a každý svetadiel (región) uložím ako zvlášť stĺpec s odpovedajúcim názvom. Takže novo-vzniknuté stĺpce budú \"North_America\", \"Latin_America\", \"Caribic\" \"Africa\", \"Western_Europe\", \"Eastern_Europe_and_Balkan\",\"Poor_Asia\", \"Rich_Asia\", \"Australia_oceania\".\n",
    "Aj napriek jasným geografickým polohám som pri niektorom zadeľovaní krajín do regiónov prihliadol aj na demografické a socioekonomické parametry.\n",
    "* Cyprus aj napriek geografickej lokácii som zaradil medzi západoeurópske krajiny kvôli jeho členstvu v EÚ.\n",
    "* Izrael, aj napriek jeho geografickej polohe som zaradil medzi krajiny západnej Európy, pretože v ňom žije prevažná časť európanov a aj ich štátny systém sa podobá európskemu.\n",
    "* Japonsko, Singapur, Južnú Kóreu a bohaté arabské krajiny som zaradil do bohatej Ázie, pretože tieto sa výrazne odlišujú od iných ázijských štátov. \n",
    "* Čínu som zaradil takisto medzi krajiny bohatej Ázie. Aj keď väčšina rozlohy Číny sú hory a púšť, jej obyvateľstvo je prevažne sústredené na jej východ, ktoré je veľkým obchodným centrom a teda oveľa viac rozvinuté.\n",
    "* Rusko som zaradil do východnej Európy pretože väčšina obyvateľstva sa nachádza v európskej časti Ruska.\n",
    "* Zvyšné krajiny boli zaradené podľa odpovedajúcej geografickej polohy.\n",
    "\n",
    "Vytvorím si funkciu new_continent, ktorá pre každý dataset vytvorí stĺpce podľa kontinentov. Vo funkcii rovnako nahradím všetky hodnoty v stĺpci \"Status\" číselnými hodnotami. Hodnota \"Developing\" bude nahradená nulou a hodnota \"Developed\" bude nahradená jednotkou. "
   ]
  },
  {
   "cell_type": "code",
   "execution_count": 2,
   "metadata": {},
   "outputs": [],
   "source": [
    "#roztriedenie štátov do regiónov – manuálne\n",
    "\n",
    "north_america = [\"United States of America\",\"Canada\"]\n",
    "latin_america = [\"Argentina\",\"Belize\",\"Bolivia (Plurinational State of)\",\"Brazil\",\"Chile\",\"Colombia\",\"Costa Rica\",\"Ecuador\",\"El Salvador\",\"Guatemala\",\n",
    "                 \"Guyana\",\"Honduras\",\"Mexico\",\"Nicaragua\",\"Panama\",\"Paraguay\",\"Peru\",\"Uruguay\",\"Venezuela (Bolivarian Republic of)\"]\n",
    "caribic = [\"Antigua and Barbuda\",\"Bahamas\",\"Barbados\",\"Cuba\",\"Dominican Republic\",\"Grenada\",\"Haiti\",\"Jamaica\",\"Saint Lucia\",\n",
    "           \"Saint Vincent and the Grenadines\",\"Suriname\",\"Trinidad and Tobago\"]\n",
    "africa = [\"Algeria\",\"Angola\",\"Benin\",\"Botswana\",\"Burkina Faso\",\"Burundi\",\"Côte d'Ivoire\",\"Cabo Verde\",\"Cameroon\",\"Central African Republic\",\"Chad\",\"Comoros\",\n",
    "          \"Congo\",\"Democratic Republic of the Congo\",\"Djibouti\",\"Egypt\",\"Equatorial Guinea\",\"Eritrea\",\"Ethiopia\",\"Gabon\",\"Gambia\",\"Ghana\",\"Guinea\",\n",
    "          \"Guinea-Bissau\",\"Kenya\",\"Lesotho\",\"Liberia\",\"Libya\",\"Madagascar\",\"Malawi\",\"Mali\",\"Mauritania\",\"Mauritius\",\"Morocco\",\"Mozambique\",\"Namibia\",\n",
    "          \"Niger\",\"Nigeria\",\"Rwanda\",\"Sao Tome and Principe\",\"Senegal\",\"Seychelles\",\"Sierra Leone\",\"Somalia\",\"South Africa\",\"South Sudan\",\"Sudan\",\n",
    "          \"Swaziland\",\"Togo\",\"Tunisia\",\"Uganda\",\"United Republic of Tanzania\",\"Zambia\",\"Zimbabwe\"]\n",
    "western_europe = [\"Austria\",\"Belgium\",\"Cyprus\",\"Czechia\",\"Denmark\",\"Estonia\",\"Finland\",\"France\",\"Germany\",\"Greece\",\"Hungary\",\"Iceland\",\"Ireland\",\"Israel\",\n",
    "               \"Italy\",\"Latvia\",\"Lithuania\",\"Luxembourg\",\"Malta\",\"Netherlands\",\"Norway\",\"Poland\",\"Portugal\",\"Slovakia\",\"Slovenia\",\"Spain\",\"Sweden\",\n",
    "               \"Switzerland\",\"United Kingdom of Great Britain and Northern Ireland\"]\n",
    "eastern_europe_and_balkan = [\"Albania\",\"Belarus\",\"Bosnia and Herzegovina\",\"Bulgaria\",\"Croatia\",\"Montenegro\",\"Republic of Moldova\",\"Romania\",\"Russian Federation\",\n",
    "               \"Serbia\",\"The former Yugoslav republic of Macedonia\",\"Ukraine\"]\n",
    "poor_asia = [\"Afghanistan\",\"Armenia\",\"Azerbaijan\",\"Bahrain\",\"Bangladesh\",\"Bhutan\",\"Brunei Darussalam\",\"Cambodia\",\"Democratic People's Republic of Korea\",\n",
    "        \"Georgia\",\"India\",\"Indonesia\",\"Iran (Islamic Republic of)\",\"Iraq\",\"Jordan\",\"Kazakhstan\",\"Kyrgyzstan\",\"Lao People's Democratic Republic\",\"Lebanon\",\n",
    "        \"Malaysia\",\"Maldives\",\"Mongolia\",\"Myanmar\",\"Nepal\",\"Oman\",\"Pakistan\",\"Papua New Guinea\",\"Philippines\",\"Saudi Arabia\",\"Sri Lanka\",\n",
    "        \"Syrian Arab Republic\",\"Tajikistan\",\"Thailand\",\"Timor-Leste\",\"Turkey\",\"Turkmenistan\",\"Uzbekistan\",\"Viet Nam\",\"Yemen\"]\n",
    "rich_asia = [\"Japan\",\"China\",\"Kuwait\",\"Qatar\",\"Republic of Korea\",\"Singapore\",\"United Arab Emirates\"]\n",
    "australia_oceania = [\"Australia\",\"Fiji\",\"Kiribati\",\"Micronesia (Federated States of)\",\"New Zealand\",\"Samoa\",\"Solomon Islands\",\"Tonga\",\"Vanuatu\"]\n",
    "\n",
    "#definovanie dvoch pomocných radov, ktoré využijem v nižšie definovanej funkcii\n",
    "\n",
    "region_arrays = [north_america,latin_america,caribic,africa,western_europe,eastern_europe_and_balkan,poor_asia,rich_asia,australia_oceania]\n",
    "regions = [\"North_America\",\"Latin_America\",\"Caribic\",\"Africa\",\"Western_Europe\",\"Eastern_Europe_and_Balkan\", \"Poor_Asia\",\"Rich_Asia\",\"Australia_Oceania\"]\n",
    "\n",
    "#jedna funkcia pre všetky tri množiny dát\n",
    "\n",
    "def new_continent(countries,new_continent,dataframe):\n",
    "    dataframe[\"Status\"] = dataframe[\"Status\"].replace(\"Developing\",0)\n",
    "    dataframe[\"Status\"] = dataframe[\"Status\"].replace(\"Developed\",1)\n",
    "    dataframe[new_continent] = dataframe[\"Country\"] #vytvorenie nového príznaku kontinentu, do ktorého sa nakopírujú hodnoty zo stĺpca \"Country\"\n",
    "    for country in dataframe[\"Country\"]: #iterácia cez stĺpec \"Country\"\n",
    "        if country in countries: #Ak je aktuálna hodnota stĺpca \"Country\" v konkrétnom regióne, tak sa nahradí 1, inak 0\n",
    "            dataframe[new_continent] = dataframe[new_continent].replace(country,1)\n",
    "        else:\n",
    "            dataframe[new_continent] = dataframe[new_continent].replace(country,0)\n",
    "\n",
    "#vytvorenie nových príznakov podľa regiónov\n",
    "\n",
    "for region,region_name in zip(region_arrays,regions):\n",
    "    new_continent(region,region_name,train_data)\n",
    "\n",
    "for region,region_name in zip(region_arrays,regions):\n",
    "    new_continent(region,region_name,test_data)\n",
    "\n",
    "for region,region_name in zip(region_arrays,regions):\n",
    "    new_continent(region,region_name,val_data)\n"
   ]
  },
  {
   "cell_type": "markdown",
   "metadata": {},
   "source": [
    "Aj napriek tomu, že príznakov v datasete je množstvo, aj po dôkladnom preskúmaní sa z nich nič moc vydolovať nedá. Väčšinou je známe len relatívne zastúpenie nejakého javu pre určitú vekovú skupinu, o ktorej nemám žiadne informácie. Napríklad mám k dispozícií príznaky znázorňujúce relatívny počet zaočkovaných detí v určitom veku, no nepoznám celkový počet detí v danej krajine a ani to, či dané dieťa má viac vakcín, alebo len jednu. Preto ďalšie prípadné sčítavanie, prípadne kombinovanie stĺpcov už robiť nebudem."
   ]
  },
  {
   "cell_type": "markdown",
   "metadata": {},
   "source": [
    "Teraz sa vysporiadam s chýbajúcimi hodnotami v datasete. Chýbajúce hodnoty sa nachádzajú v stĺpcoch \"Alcohol\", \"Hepatitis B\", \"BMI\", \"Polio\", \"Total expenditure\", \"Diphtheria\", \"GDP\", \"Population\", \"thinness 1-19 years\", \"thinness 5-9 years\", \"Income composition of resources\" a \"Schooling\". So všetkými chýbajúcimi hodnotami sa vysporiadam tak, že z trénovacieho datasetu vyberiem dané príznaky pre jednotlivé svetadiely resp. regióny, spriemerujem ich a tieto priemery dosadím za chýbajúce hodnoty aj na validačnej aj testovacej množine. Je totiž jasné, že napríklad spotreba alkoholu bude vyššia vo východnej Európe a na Balkáne, než v arabských krajinách. Preto pracujem s priemernými hodnotami pre každý región zvlášť."
   ]
  },
  {
   "cell_type": "code",
   "execution_count": 3,
   "metadata": {},
   "outputs": [],
   "source": [
    "missing_values_columns = [\"Alcohol\",\"Hepatitis B\", \"BMI\",\"Polio\",\"Total expenditure\",\"Diphtheria\",\"GDP\",\"Population\",\"thinness  1-19 years\",\n",
    "                          \"thinness 5-9 years\",\"Income composition of resources\",\"Schooling\"]\n",
    "query_regions = [\"North_America==1\",\"Latin_America==1\",\"Caribic==1\",\"Africa==1\",\"Western_Europe==1\",\"Eastern_Europe_and_Balkan==1\", \"Poor_Asia==1\",\n",
    "           \"Rich_Asia==1\",\"Australia_Oceania==1\"] #V rade musí byť rovnako zapísaná podmienka ako string, inak to metóda query nevie vyhodnotiť\n",
    "\n",
    "means_dict = {} #sem budem ukladať jednotlivé priemer stĺpcovy pre odpovedajúci región. Stĺpcov je 12, toľko bude aj key-value pairs v dict.\n",
    "                # Každý key bude mať k sebe value typu array, ktorý má dĺžku 9 (zvlášť priemer pre konkrétny región)\n",
    "\n",
    "#spriemerovanie stĺpcov, v ktorých sú chýbajúce hodnoty pre trénovací dataset. Pre každý región zvlášť.\n",
    "\n",
    "for column in missing_values_columns:\n",
    "    means_arr = []\n",
    "    for query in query_regions:\n",
    "        result_mean = train_data.query(query)[column].mean()\n",
    "        means_arr.append(result_mean)\n",
    "    means_dict[column] = means_arr\n",
    "    \n",
    "\n",
    "#funkcia, pomocou ktorej dosadím priemerné hodnoty miesto prázdnych. Pre každý región zvlášť.\n",
    "\n",
    "def fillNAN(data,column):\n",
    "    filled_nan = np.array([])\n",
    "    for query,mean in zip(query_regions,means_dict[column]):\n",
    "        result = data.query(query)[column]\n",
    "        result_filled = result.replace(np.nan,mean)\n",
    "        filled_nan = np.append(filled_nan,result_filled)\n",
    "    data[column] = data[column].replace(np.array(data[column]),filled_nan)\n",
    "\n",
    "#dosadenie priemerov trénovacej množiny do jednotlivých množín\n",
    "\n",
    "for column in missing_values_columns:\n",
    "    fillNAN(train_data,column)\n",
    "\n",
    "for column in missing_values_columns:\n",
    "    fillNAN(val_data,column)\n",
    "\n",
    "for column in missing_values_columns:\n",
    "    fillNAN(test_data,column)\n"
   ]
  },
  {
   "cell_type": "markdown",
   "metadata": {},
   "source": [
    "Ďalší krok predspracovania dát bude vyhodenie stĺpca \"Country\" zo všetkých troch množín."
   ]
  },
  {
   "cell_type": "code",
   "execution_count": 4,
   "metadata": {},
   "outputs": [],
   "source": [
    "train_data = train_data.drop([\"Country\"],axis=1)\n",
    "val_data = val_data.drop([\"Country\"],axis=1)\n",
    "test_data = test_data.drop([\"Country\"],axis=1)"
   ]
  },
  {
   "cell_type": "markdown",
   "metadata": {},
   "source": [
    "Ako posledný krok predspracovania dát bude vykreslenie korelačnej matice príznakov z trénovacej množiny. Korelačná matica mi povie, či v matici príznakov mám také, ktoré sú na sebe nejakým spôsobom závislé. Síce korelačnú maticu vykresľujem len pre trénovaciu množinu, no pre validačnú a testovaciu budú korelácie podobné, pretože tieto množiny boli zhotovené náhodným výberom, a teda sú reprezentatívne.\n",
    "\n",
    "Pri tvorbe modelu lineárnej regresie ma zaujíma ale len špeciálny typ závislosti, a to je lineárna závislosť. Či sú príznaky na sebe lineárne závislé, to už mi korelačná matica nepovie. Prípadnú lineárnu závislosť príznakov overím dosadením predpovedaných koeficientov w_hat do normálnej rovnice. "
   ]
  },
  {
   "cell_type": "code",
   "execution_count": 5,
   "metadata": {},
   "outputs": [],
   "source": [
    "Xtrain = train_data.drop(\"Life expectancy\",axis=1)\n",
    "Ytrain = train_data[\"Life expectancy\"]\n",
    "\n",
    "Xval = val_data.drop(\"Life expectancy\",axis=1)\n",
    "Yval = val_data[\"Life expectancy\"]\n",
    "\n",
    "Xtest = test_data.drop(\"Life expectancy\",axis=1)\n",
    "Ytest = test_data[\"Life expectancy\"]"
   ]
  },
  {
   "cell_type": "markdown",
   "id": "0b5c4856",
   "metadata": {},
   "source": [
    "## Random Forest\n",
    "\n",
    "Model náhodného lesa pozostáva z viacerých modelov rozhodovacích stromov, z ktorých každý jeden má rovnaké hyperparametre ale jeho natrénovanie prebehlo na rozdielnych dátach vďaka metóde bootstrapu. Tieto jednotlivé stromy robia svoje vlastné predikcie a predikcia náhodného lesa je vznikne spriemerovaním týchto hodnôt v prípade regresnej úlohy. V prípade klasifikačnej úlohy sa vyberie najčastejšie sa opakujúca hodnota. Stromy používané v tomto modeli sú často plytšie a nepredikujú až tak dobre, no v konečnom dôsledku predikcia samotného náhodného lesa je kvalitná. Model je rovnako robustný a imúnny voči preučeniu. Pri veľkom množstve zadaných stromov sa stromy medzi sebou začnú opakovať ale neprispôsobia sa trénovacím dátam. \n",
    "\n",
    "Začnem vlastnou implementáciou modelu náhodného lesa."
   ]
  },
  {
   "cell_type": "code",
   "execution_count": 6,
   "id": "280dc5d5-087b-4060-bd0a-c950c91f0533",
   "metadata": {},
   "outputs": [],
   "source": [
    "tree_estimators = {}\n",
    "\n",
    "class CustomRandomForest:\n",
    "    \n",
    "\n",
    "    def __init__(self, n_estimators, max_samples_absolute, max_depth, criterion):\n",
    "        self.n_estimators = n_estimators\n",
    "        self.max_samples_absolute = max_samples_absolute\n",
    "        self.max_depth = max_depth\n",
    "        self.criterion = criterion\n",
    "\n",
    "        \n",
    "    def fit(self, Xtrain, Ytrain):\n",
    "        for estimator in range(1,self.n_estimators+1):\n",
    "            #aby Randomstate bol vždy rovnaký pri bootstrape z Xtrain aj Ytrain, aby si jednotlivé hodnoty príznakov a predikcí odpovedali\n",
    "            RS = estimator \n",
    "            bootstrap_X = Xtrain.sample(n=self.max_samples_absolute,replace=True,axis=0,random_state=RS)\n",
    "            bootstrap_Y = Ytrain.sample(n=self.max_samples_absolute,replace=True,axis=0,random_state=RS)\n",
    "            tree = DecisionTreeRegressor(\n",
    "                max_depth=self.max_depth,criterion=self.criterion,\n",
    "                ).fit(bootstrap_X,bootstrap_Y)\n",
    "            #uloženie natrénovaných stromov do slovníka\n",
    "            tree_estimators.update({estimator:tree})\n",
    "\n",
    "        \n",
    "    def predict(self, X):\n",
    "        #zadefinovanie prázdneho slovníka a arrays, do ktorých budem v cykloch ukladať výsledky\n",
    "        prediction = {} #slovník, kde sa uložia predpovede jednotlivých stromov vo formáte {number:array}.\n",
    "        prediction_per_country = [] #tu sa uložia predpovede dĺžky života stromov vždy len pre jednu krajinu.\n",
    "        Ypredicted = [] #tu sa vloží priemer predpovedí dĺžky života pre danú krajinu z arrayu prediction_per_country.\n",
    "\n",
    "        for estimator in range(1,self.n_estimators+1):\n",
    "            tree = tree_estimators[estimator]\n",
    "            prediction.update({estimator:tree.predict(X)})\n",
    "\n",
    "        for index in range(len(X)):\n",
    "            for estimator in range(1,self.n_estimators+1):\n",
    "                prediction_per_country.append(prediction[estimator][index])\n",
    "            result = np.mean(prediction_per_country)\n",
    "            Ypredicted.append(result)\n",
    "            prediction_per_country = []\n",
    "\n",
    "        return Ypredicted\n"
   ]
  },
  {
   "cell_type": "markdown",
   "id": "d6d8e970",
   "metadata": {},
   "source": [
    "Po úspešnej ručnej implementácii modelu náhodného lesa som sa rozhodol ladiť hyperparametre. No ladenie muselo prebiehať zvlášť, pretože v prípade, kedy som sa snažil ladiť všetky hyperparametre naraz mi vyšlo, že model počíta približne 20,000,000 scenárov, čo ani po 6 hodinách spusteného kódu nebolo spočítané. Preto som sa rozhodol ladiť zvlášť hyperparametre criterion, max_depth, n_estimators a max_samples_absolute. Po 37 minútach mi kód vypľul výsledok, kedy najvhodnejšia kombinácia parametrov bola max_depth = 13, criterion = poisson, n_estimators = 16 a max_samples_absolute = 685 s validačnou RMSE = 2.699. Tieto hodnoty sa môžu vďaka náhode pri rôznych dátach trochu líšiť, no nebude to o moc."
   ]
  },
  {
   "cell_type": "markdown",
   "id": "03dec5ee",
   "metadata": {},
   "source": [
    "Výpočet v nasledovnom bloku kódu trval dlho, preto bunka nie je spustená."
   ]
  },
  {
   "cell_type": "code",
   "execution_count": null,
   "id": "a2cfe5f3",
   "metadata": {},
   "outputs": [],
   "source": [
    "param_grid = {\n",
    "    'criterion': ['squared_error','absolute_error', 'poisson', 'friedman_mse'],\n",
    "    'max_depth': range(2,15),\n",
    "    'n_estimators': range(10,50),\n",
    "    'max_samples_absolute': range(200,1000),\n",
    "}\n",
    "\n",
    "param_comb = ParameterGrid(param_grid)\n",
    "\n",
    "RF_val_RMSE = []\n",
    "for params in param_comb:\n",
    "    RF_model = CustomRandomForest(n_estimators=params['n_estimators'],max_depth=params['max_depth'],criterion=params['criterion'],max_samples_absolute=params['max_samples_absolute'])\n",
    "    RF_model.fit(Xtrain, Ytrain)\n",
    "    RF_val_RMSE.append(root_mean_squared_error(Yval, RF_model.predict(Xval)))\n",
    "\n",
    "    print(\"Val RMSE je:\", RF_val_RMSE[-1],\n",
    "          \"Hĺbka je:\", params['max_depth'],\n",
    "          \"Kritérium:\",params['criterion'],\n",
    "          \"Počet stromov:\",params['n_estimators'],\n",
    "          \"Počet max samples:\",params['max_samples_absolute'])\n",
    "\n",
    "best_params_min = param_comb[np.argmin(RF_val_RMSE)]\n",
    "best_params_min"
   ]
  },
  {
   "cell_type": "markdown",
   "id": "8793626c",
   "metadata": {},
   "source": [
    "Teraz si ešte vyladené hyperparametre náhodného lesa uložím do zvlášť premennej a vypočítam validačnú RMSE pre finálny model náhodného lesa."
   ]
  },
  {
   "cell_type": "code",
   "execution_count": 8,
   "id": "c1bf7463",
   "metadata": {},
   "outputs": [
    {
     "name": "stdout",
     "output_type": "stream",
     "text": [
      "Validačná RMSE pre najlepší model náhodného lesa je: 2.7053740432209374\n",
      "Validačná MAE pre najlepší model náhodného lesa je: 1.907678512503956\n"
     ]
    }
   ],
   "source": [
    "hp_RF = {\n",
    "         'max_samples_absolute': 685,\n",
    "         'max_depth': 13,\n",
    "         'n_estimators': 16,\n",
    "         'criterion': 'poisson'\n",
    "         }\n",
    "\n",
    "RF_model_final = CustomRandomForest(hp_RF['n_estimators'],hp_RF['max_samples_absolute'],hp_RF['max_depth'],hp_RF['criterion'])\n",
    "RF_model_final.fit(Xtrain,Ytrain)\n",
    "\n",
    "print(\"Validačná RMSE pre najlepší model náhodného lesa je:\",root_mean_squared_error(Yval,RF_model_final.predict(Xval)))\n",
    "print(\"Validačná MAE pre najlepší model náhodného lesa je:\",mean_absolute_error(Yval,RF_model_final.predict(Xval)))"
   ]
  },
  {
   "cell_type": "markdown",
   "id": "f4c530cd",
   "metadata": {},
   "source": [
    "Model náhodného lesa použijem na predikciu RMSE a MAE na dátach, ktoré som doposiaľ k dispozícií nemal, teda na testovacej množine. Ako vidíme, výsledok je veľmi podobný očakávanej hodnote RMSE a MAE získanej na validačných dátach."
   ]
  },
  {
   "cell_type": "code",
   "execution_count": 9,
   "id": "5cade0a8",
   "metadata": {},
   "outputs": [
    {
     "name": "stdout",
     "output_type": "stream",
     "text": [
      "Testovacia RMSE pre finálny model náhodného lesa je: 2.732917398879111\n",
      "Testovacia MAE pre finálny model náhodného lesa je: 1.9297341958398118\n"
     ]
    }
   ],
   "source": [
    "print(\"Testovacia RMSE pre finálny model náhodného lesa je:\",root_mean_squared_error(Ytest,RF_model_final.predict(Xtest)))\n",
    "print(\"Testovacia MAE pre finálny model náhodného lesa je:\",mean_absolute_error(Ytest,RF_model_final.predict(Xtest)))"
   ]
  },
  {
   "cell_type": "markdown",
   "id": "8955cbdc",
   "metadata": {},
   "source": [
    "Posledný krok je už len načítanie dát zo súboru evaluation.csv a ich transformácia. Vyčlenenie stĺpca \"Country\" a predikcia strednej dĺžky života na krajinu."
   ]
  },
  {
   "cell_type": "code",
   "execution_count": 10,
   "id": "9c1242eb",
   "metadata": {},
   "outputs": [],
   "source": [
    "final_data = pd.read_csv(\"evaluation.csv\")\n",
    "\n",
    "# Po načítaní si upravím final_data najskôr vytvorením stĺpcov regiónov a potom doplnením chýbajúcich hodnôt podľa priemerov vypočítaných pre\n",
    "# train_data. \n",
    "\n",
    "for region,region_name in zip(region_arrays,regions):\n",
    "    new_continent(region,region_name,final_data)\n",
    "\n",
    "for column in missing_values_columns:\n",
    "    fillNAN(final_data,column)\n",
    "\n",
    "# A ešte vyhodím z dát stĺpec \"Country\" a uložím ho do premennej.\n",
    "\n",
    "final_data_country = final_data[\"Country\"]\n",
    "final_data_year = final_data[\"Year\"]\n",
    "final_data = final_data.drop(\"Country\",axis=1)\n",
    "\n",
    "Ypredicted_final = RF_model_final.predict(final_data)\n",
    "\n"
   ]
  },
  {
   "cell_type": "markdown",
   "id": "10ade68c",
   "metadata": {},
   "source": [
    "Na koniec už len posledné úpravy, aby všetky datatypes boli kompatibilné, konverzia radov na dataframe a export dát do .csv súboru."
   ]
  },
  {
   "cell_type": "code",
   "execution_count": 11,
   "id": "964e78f5",
   "metadata": {},
   "outputs": [],
   "source": [
    "Ypredicted_final_array = np.array(Ypredicted_final)\n",
    "\n",
    "result = pd.DataFrame([final_data_country,final_data_year,Ypredicted_final_array]).transpose()\n",
    "result = result.rename(columns={\"Country\":\"Country\",\"Year\":\"Year\",\"Unnamed 0\":\"Life expectancy\"})\n",
    "\n",
    "#result.to_csv(\"results.csv\",index=False) #odkomentované aby sa export neopakoval"
   ]
  }
 ],
 "metadata": {
  "kernelspec": {
   "display_name": "Python 3",
   "language": "python",
   "name": "python3"
  },
  "language_info": {
   "codemirror_mode": {
    "name": "ipython",
    "version": 3
   },
   "file_extension": ".py",
   "mimetype": "text/x-python",
   "name": "python",
   "nbconvert_exporter": "python",
   "pygments_lexer": "ipython3",
   "version": "3.12.1"
  }
 },
 "nbformat": 4,
 "nbformat_minor": 5
}
